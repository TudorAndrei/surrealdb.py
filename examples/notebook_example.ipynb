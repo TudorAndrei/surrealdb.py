{
 "cells": [
  {
   "attachments": {},
   "cell_type": "markdown",
   "metadata": {},
   "source": [
    "## Example of how to use the SurrealDB client in a notebook"
   ]
  },
  {
   "cell_type": "code",
   "execution_count": null,
   "metadata": {},
   "outputs": [],
   "source": [
    "from surrealdb import AsyncSurrealDB\n",
    "\n",
    "db = AsyncSurrealDB(\"ws://localhost:8000/database/namespace\")\n",
    "\n",
<<<<<<< HEAD
<<<<<<< HEAD
    "db = Surreal(\"http://localhost:8000\")\n",
=======
    "db = Surreal(\"ws://localhost:8000/rpc\")\n",
>>>>>>> 89bdd361d0a92f69deff137958279ab21161f00c
=======
>>>>>>> ffefd8a2354ff597f6f18115d18fa4eab45d6540
    "await db.connect()\n",
    "\n",
    "await db.signin({\n",
    "    \"username\": \"root\",\n",
    "    \"password\": \"root\",\n",
    "})"
   ]
  },
  {
   "cell_type": "code",
   "execution_count": null,
   "metadata": {},
   "outputs": [],
   "source": [
    "await db.create(\n",
    "    \"person\",\n",
    "    {\n",
    "        \"user\": \"me\",\n",
    "        \"pass\": \"safe\",\n",
    "        \"marketing\": True,\n",
    "        \"tags\": [\"python\", \"documentation\"],\n",
    "    },\n",
    ")"
   ]
  },
  {
   "cell_type": "code",
   "execution_count": null,
   "metadata": {},
   "outputs": [],
   "source": [
    "await db.select(\"person\")"
   ]
  },
  {
   "cell_type": "code",
   "execution_count": null,
   "metadata": {},
   "outputs": [],
   "source": [
    "await db.update(\"person\", {\n",
    "    \"user\":\"you\",\n",
    "    \"pass\":\"very_safe\",\n",
    "    \"marketing\": False,\n",
    "    \"tags\": [\"Awesome\"]\n",
    "})"
   ]
  },
  {
   "cell_type": "code",
   "execution_count": null,
   "metadata": {},
   "outputs": [],
   "source": [
    "await db.delete(\"person\")"
   ]
  }
 ],
 "metadata": {
<<<<<<< HEAD
  "language_info": {
   "name": "python"
=======
  "kernelspec": {
   "display_name": ".venv",
   "language": "python",
   "name": "python3"
  },
  "language_info": {
   "codemirror_mode": {
    "name": "ipython",
    "version": 3
   },
   "file_extension": ".py",
   "mimetype": "text/x-python",
   "name": "python",
   "nbconvert_exporter": "python",
   "pygments_lexer": "ipython3",
   "version": "3.10.11"
>>>>>>> 89bdd361d0a92f69deff137958279ab21161f00c
  },
  "orig_nbformat": 4
 },
 "nbformat": 4,
 "nbformat_minor": 2
}
